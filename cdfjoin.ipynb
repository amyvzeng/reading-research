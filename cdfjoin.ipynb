{
 "cells": [
  {
   "cell_type": "code",
   "execution_count": 1,
   "metadata": {},
   "outputs": [],
   "source": [
    "import cdfsampler\n",
    "import natjoin\n",
    "import random"
   ]
  },
  {
   "cell_type": "code",
   "execution_count": 2,
   "metadata": {},
   "outputs": [],
   "source": [
    "def isPrime(n):\n",
    "    for i in range(2,int(n**0.5)+1):\n",
    "        if n%i==0:\n",
    "            return False\n",
    "\n",
    "    return True"
   ]
  },
  {
   "cell_type": "code",
   "execution_count": 3,
   "metadata": {},
   "outputs": [],
   "source": [
    "def normalize(lower, upper, value):\n",
    "    if lower == upper:\n",
    "        return .5\n",
    "    return (float(value) - float(lower)) / (float(upper) - float(lower))"
   ]
  },
  {
   "cell_type": "code",
   "execution_count": 4,
   "metadata": {},
   "outputs": [],
   "source": [
    "def hash_function(entry_value, prime):\n",
    "    hash_value = 0\n",
    "    for element in str(entry_value):\n",
    "        hash_value += ord(element) % prime\n",
    "    return hash_value"
   ]
  },
  {
   "cell_type": "code",
   "execution_count": 5,
   "metadata": {},
   "outputs": [],
   "source": [
    "def join_by_hash_sum(r, s, last_table = False):\n",
    "    r_attributes = r[0].keys()\n",
    "    s_attributes = s[0].keys()\n",
    "\n",
    "    common_attributes = list(filter(lambda ra: ra in s_attributes, r_attributes))\n",
    "    if len(common_attributes) > 0:\n",
    "        s_unique_attributes = list(filter(lambda sa: sa not in common_attributes, s_attributes))\n",
    "        hashtable = {}\n",
    "        hashtable_keys = []\n",
    "        \n",
    "        #build hash table\n",
    "        row_index = 0\n",
    "        for entry in r:\n",
    "            hashkey = entry[\"hash sum\"]\n",
    "            if hashkey not in hashtable_keys:\n",
    "                hashtable[hashkey] = [row_index]\n",
    "                hashtable_keys.append(hashkey)\n",
    "            else:\n",
    "                hashtable[hashkey].append(row_index)\n",
    "            row_index+=1\n",
    "        \n",
    "        #join\n",
    "        output = []\n",
    "        for entry in s:\n",
    "            hashkey = entry[\"hash sum\"]\n",
    "            if hashkey in hashtable_keys:\n",
    "                filtered_dict = {k:v for (k,v) in entry.items() if k in s_unique_attributes}\n",
    "                for r_index in hashtable[hashkey]:\n",
    "                    new_entry = (r[r_index].copy())\n",
    "                    new_entry.update(filtered_dict)\n",
    "                    output.append(new_entry)\n",
    "            if last_table:\n",
    "                del entry[\"hash sum\"]\n",
    "            \n",
    "        return output\n",
    "    else:\n",
    "        return natjoin.cartesian_product(r,s)"
   ]
  },
  {
   "cell_type": "code",
   "execution_count": 6,
   "metadata": {},
   "outputs": [],
   "source": [
    "def hash_join(tables):\n",
    "    l1 = tables[0]\n",
    "    for i in range(1, len(tables)):\n",
    "        if i == len(tables)-1:\n",
    "            l1 = join_by_hash_sum(l1, tables[i], True)\n",
    "        else:\n",
    "            l1 = join_by_hash_sum(l1, tables[i])\n",
    "    return l1"
   ]
  },
  {
   "cell_type": "code",
   "execution_count": 7,
   "metadata": {},
   "outputs": [],
   "source": [
    "def build_attrs_hash_dict(join_attrs):\n",
    "    primes = []\n",
    "    primes_needed = len(join_attrs.keys())\n",
    "    lower_bound = 31\n",
    "    upper_bound = 126\n",
    "    while len(primes) < primes_needed:\n",
    "        primes += [i for i in range(upper_bound, lower_bound+upper_bound) if isPrime(i)]\n",
    "        lower_bound = upper_bound+1\n",
    "        upper_bound += primes_needed\n",
    "\n",
    "    attrs_hash_dict = {}\n",
    "    for k, v in join_attrs.items():\n",
    "        hash_num = random.choice(primes)\n",
    "        attrs_hash_dict[k] = hash_num\n",
    "        primes.remove(hash_num)\n",
    "        \n",
    "    return attrs_hash_dict"
   ]
  },
  {
   "cell_type": "code",
   "execution_count": null,
   "metadata": {},
   "outputs": [],
   "source": []
  },
  {
   "cell_type": "code",
   "execution_count": null,
   "metadata": {},
   "outputs": [],
   "source": []
  },
  {
   "cell_type": "code",
   "execution_count": 8,
   "metadata": {},
   "outputs": [],
   "source": [
    "def cdfjoin(tables, sampling_threshold):\n",
    "    if len(tables) <= 1:\n",
    "        return tables\n",
    "    else:\n",
    "        attrs = {}\n",
    "        \n",
    "        #find join attributes\n",
    "        for i in range(len(tables)):\n",
    "            table = tables[i]\n",
    "            for table_key in table[0].keys():\n",
    "                if table_key in attrs.keys(): attrs[table_key].append(i)\n",
    "                else: attrs[table_key] = [i]\n",
    "        join_attrs = {k: v for k,v in attrs.items() if len(v) > 1}\n",
    "        \n",
    "        #build dictionary of prime numbers to use when hashing each join attribute\n",
    "        attrs_hash_dict = build_attrs_hash_dict(join_attrs)\n",
    "            \n",
    "        #compute hashes of each key in join attribute dictionary\n",
    "        for k,v in attrs_hash_dict.items():\n",
    "            table_indices = join_attrs[k]\n",
    "            hash_min = hash_function(tables[table_indices[0]][0][k], v)\n",
    "            hash_max = hash_min\n",
    "            for index in table_indices:\n",
    "                table = tables[index]\n",
    "                for entry in table:\n",
    "                    hash_score = hash_function(entry[k], v)\n",
    "                    entry[str(k) + \" hash score\"] = hash_score\n",
    "                    if hash_score < hash_min:\n",
    "                        hash_min = hash_score\n",
    "                    elif hash_score > hash_max:\n",
    "                        hash_max = hash_score\n",
    "            for index in table_indices:\n",
    "                table = tables[index]\n",
    "                for entry in table:\n",
    "                    value = entry[str(k) + \" hash score\"]\n",
    "                    entry[str(k) + \" hash score\"] = normalize(hash_min, hash_max, value)\n",
    "            #attrs_hash_dict[k].append([hash_min, hash_max])\n",
    "            \n",
    "        #compute sums of all hashes i\n",
    "        for table in tables:\n",
    "            for entry in table:\n",
    "                entry[\"hash sum\"] = sum([v for k,v in entry.items() if k[-11:] == \" hash score\"])\n",
    "                delete_keys = [k for k,v in entry.items() if k[-11:] == \" hash score\"]\n",
    "                for key in delete_keys:\n",
    "                    del entry[key]\n",
    "        \n",
    "        #filter for all entries whose cdf <= sampling probability\n",
    "        filtered_tables = []\n",
    "        for i in range(len(tables)):\n",
    "            table = tables[i]\n",
    "            filtered_table = []\n",
    "            if \"hash sum\" in table[0].keys():\n",
    "                n_join_attrs = len([i for k,v in join_attrs.items() if i in v])\n",
    "                for entry in table:\n",
    "                    if cdfsampler.cdf(n_join_attrs, entry[\"hash sum\"]) <= sampling_threshold:\n",
    "                        filtered_table.append(entry)\n",
    "            if len(filtered_table) > 0:\n",
    "                filtered_tables.append(filtered_table)\n",
    "            else:\n",
    "                return []\n",
    "                \n",
    "        joined_tables = hash_join(filtered_tables)\n",
    "        return joined_tables\n",
    "        "
   ]
  },
  {
   "cell_type": "code",
   "execution_count": null,
   "metadata": {},
   "outputs": [],
   "source": []
  },
  {
   "cell_type": "code",
   "execution_count": 9,
   "metadata": {},
   "outputs": [
    {
     "data": {
      "text/plain": [
       "[{'name': 'mitski',\n",
       "  'age': 21,\n",
       "  'year': 1938,\n",
       "  'hash sum': 0.0,\n",
       "  'g': 'b',\n",
       "  'song': 'nobody'}]"
      ]
     },
     "execution_count": 9,
     "metadata": {},
     "output_type": "execute_result"
    }
   ],
   "source": [
    "example_table_one = [{\"name\": \"barbara lewis\", \"age\": 21, \"year\": 1957},\n",
    "                    {\"name\": \"mitski\", \"age\": 21, \"year\": 1938},\n",
    "                    {\"name\": \"julian casablancas\", \"age\": 21, \"year\": 2512},\n",
    "                    {\"name\": \"kali uchis\", \"age\": 21, \"year\": 1914},\n",
    "                    {\"name\": \"angel olsen\", \"age\": 21, \"year\": 1932},\n",
    "                    {\"name\": \"elvis presley\", \"age\": 21, \"year\": 1957}]\n",
    "\n",
    "example_table_two = [{\"name\": \"harry styles\", \"age\": 21, \"g\": \"a\"},\n",
    "                    {\"name\": \"mitski\", \"age\": 21, \"g\": \"b\"},\n",
    "                    {\"name\": \"paul simon\", \"age\": 21, \"g\": \"c\"},\n",
    "                    {\"name\": \"ravyn lenae\", \"age\": 42, \"g\": \"d\"},\n",
    "                    {\"name\": \"janis joplin\", \"age\": 42, \"g\": \"e\"},\n",
    "                    {\"name\": \"james morrison\", \"age\": 42, \"g\": \"f\"}]\n",
    "\n",
    "example_table_three = [{\"name\": \"the breeders\", \"song\": \"off you\"},\n",
    "                      {\"name\": \"mitski\", \"song\": \"nobody\"}]\n",
    "\n",
    "example_table_four = [{\"id\": \" \", \"birth\": \" \", \"death\": \" \"}]\n",
    "\n",
    "cdfjoin([example_table_one, example_table_two, example_table_three], .5)\n",
    "cdfjoin([example_table_one, example_table_two, example_table_three], .934)\n",
    "    \n",
    "#print(cdfjoin([example_table_one, example_table_two, example_table_three], .75))\n",
    "#print(natjoin.natural_join([example_table_one, example_table_two, example_table_three]))"
   ]
  },
  {
   "cell_type": "code",
   "execution_count": 10,
   "metadata": {},
   "outputs": [
    {
     "data": {
      "text/plain": [
       "[{'name': 'mitski',\n",
       "  'age': 21,\n",
       "  'year': 1938,\n",
       "  'hash sum': 0.0,\n",
       "  'g': 'b',\n",
       "  'song': 'nobody'}]"
      ]
     },
     "execution_count": 10,
     "metadata": {},
     "output_type": "execute_result"
    }
   ],
   "source": [
    "natjoin.natural_join([example_table_one, example_table_two, example_table_three])"
   ]
  },
  {
   "cell_type": "code",
   "execution_count": null,
   "metadata": {},
   "outputs": [],
   "source": []
  }
 ],
 "metadata": {
  "kernelspec": {
   "display_name": "Python 3",
   "language": "python",
   "name": "python3"
  },
  "language_info": {
   "codemirror_mode": {
    "name": "ipython",
    "version": 3
   },
   "file_extension": ".py",
   "mimetype": "text/x-python",
   "name": "python",
   "nbconvert_exporter": "python",
   "pygments_lexer": "ipython3",
   "version": "3.7.0"
  }
 },
 "nbformat": 4,
 "nbformat_minor": 2
}
