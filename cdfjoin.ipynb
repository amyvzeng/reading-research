{
 "cells": [
  {
   "cell_type": "code",
   "execution_count": 13,
   "metadata": {},
   "outputs": [],
   "source": [
    "import cdfsampler\n",
    "import natjoin\n",
    "import random"
   ]
  },
  {
   "cell_type": "code",
   "execution_count": 33,
   "metadata": {},
   "outputs": [],
   "source": [
    "def isPrime(n):\n",
    "    for i in range(2,int(n**0.5)+1):\n",
    "        if n%i==0:\n",
    "            return False\n",
    "\n",
    "    return True"
   ]
  },
  {
   "cell_type": "code",
   "execution_count": 69,
   "metadata": {},
   "outputs": [],
   "source": [
    "def normalize(lower, upper, value):\n",
    "    if lower == upper:\n",
    "        return .5\n",
    "    return (float(value) - float(lower)) / (float(upper) - float(lower))"
   ]
  },
  {
   "cell_type": "code",
   "execution_count": 99,
   "metadata": {},
   "outputs": [],
   "source": [
    "def hash_function(entry_value, prime):\n",
    "    hash_value = 0\n",
    "    for element in str(entry_value):\n",
    "        hash_value += ord(element) % v\n",
    "    return hash_value"
   ]
  },
  {
   "cell_type": "code",
   "execution_count": null,
   "metadata": {},
   "outputs": [],
   "source": []
  },
  {
   "cell_type": "code",
   "execution_count": 190,
   "metadata": {},
   "outputs": [],
   "source": [
    "def cdfjoin(tables, sampling_threshold):\n",
    "    if len(tables) <= 1:\n",
    "        return tables\n",
    "    else:\n",
    "        attrs = {}\n",
    "        \n",
    "        #find join attributes\n",
    "        for i in range(len(tables)):\n",
    "            table = tables[i]\n",
    "            for table_key in table[0].keys():\n",
    "                if table_key in attrs.keys(): attrs[table_key].append(i)\n",
    "                else: attrs[table_key] = [i]\n",
    "        join_attrs = {k: v for k,v in attrs.items() if len(v) > 1}\n",
    "        \n",
    "        #build dictionary of prime numbers to use when hashing each join attribute\n",
    "        primes = []\n",
    "        primes_needed = len(join_attrs.keys())\n",
    "        lower_bound = 31\n",
    "        upper_bound = 126\n",
    "        while len(primes) < primes_needed:\n",
    "            primes += [i for i in range(upper_bound, lower_bound+upper_bound) if isPrime(i)]\n",
    "            lower_bound = upper_bound+1\n",
    "            upper_bound += primes_needed\n",
    "            \n",
    "        attrs_hash_dict = {}\n",
    "        for k, v in join_attrs.items():\n",
    "            hash_num = random.choice(primes)\n",
    "            attrs_hash_dict[k] = [hash_num]\n",
    "            primes.remove(hash_num)\n",
    "            \n",
    "        #compute hashes of each key in join attribute dictionary\n",
    "        for k,v in attrs_hash_dict.items():\n",
    "            table_indices = join_attrs[k]\n",
    "            hash_min = hash_function(tables[table_indices[0]][0][k], v)\n",
    "            hash_max = hash_min\n",
    "            for index in table_indices:\n",
    "                table = tables[index]\n",
    "                for entry in table:\n",
    "                    hash_score = hash_function(entry[k], v)\n",
    "                    entry[str(k) + \" hash score\"] = hash_score\n",
    "                    if hash_score < hash_min:\n",
    "                        hash_min = hash_score\n",
    "                    elif hash_score > hash_max:\n",
    "                        hash_max = hash_score\n",
    "            for index in table_indices:\n",
    "                table = tables[index]\n",
    "                for entry in table:\n",
    "                    value = entry[str(k) + \" hash score\"]\n",
    "                    entry[str(k) + \" hash score\"] = normalize(hash_min, hash_max, value)\n",
    "            attrs_hash_dict[k].append([hash_min, hash_max])\n",
    "\n",
    "        #compute sums of all hashes i\n",
    "        for table in tables:\n",
    "            for entry in table:\n",
    "                entry[\"hash sum\"] = sum([v for k,v in entry.items() if k[-11:] == \" hash score\"])\n",
    "                delete_keys = [k for k,v in entry.items() if k[-11:] == \" hash score\"]\n",
    "                for key in delete_keys:\n",
    "                    del entry[key]\n",
    "        \n",
    "        #filter for all entries whose cdf <= sampling probability\n",
    "        filtered_tables = []\n",
    "        for i in range(len(tables)):\n",
    "            table = tables[i]\n",
    "            filtered_table = []\n",
    "            if \"hash sum\" in table[0].keys():\n",
    "                n_join_attrs = len([i for k,v in join_attrs.items() if i in v])\n",
    "                for entry in table:\n",
    "                    if cdfsampler.cdf(n_join_attrs, entry[\"hash sum\"]) <= sampling_threshold:\n",
    "                        filtered_table.append(entry)\n",
    "                    del entry[\"hash sum\"]\n",
    "            if len(filtered_table) > 0:\n",
    "                filtered_tables.append(filtered_table)\n",
    "\n",
    "        joined_tables = natjoin.natural_join(filtered_tables)\n",
    "        return joined_tables\n",
    "        \n",
    "            "
   ]
  },
  {
   "cell_type": "code",
   "execution_count": 191,
   "metadata": {},
   "outputs": [
    {
     "name": "stdout",
     "output_type": "stream",
     "text": [
      "[{'name': ' ', 'age': 21, 'year': 1957, 'g': 'a'}, {'name': ' ', 'age': 21, 'year': 1957, 'g': 'b'}, {'name': ' ', 'age': 21, 'year': 1957, 'g': 'c'}]\n"
     ]
    }
   ],
   "source": [
    "example_table_one = [{\"name\": \" \", \"age\": 21, \"year\": 1957},\n",
    "                    {\"name\": \"yikes\", \"age\": 21, \"year\": 1938},\n",
    "                    {\"name\": \"i'm\", \"age\": 21, \"year\": 2512},\n",
    "                    {\"name\": \"so\", \"age\": 21, \"year\": 1914},\n",
    "                    {\"name\": \"bleh\", \"age\": 21, \"year\": 1932},\n",
    "                    {\"name\": \"right now\", \"age\": 21, \"year\": 1957}]\n",
    "\n",
    "example_table_two = [{\"name\": \" \", \"age\": 21, \"g\": \"a\"},\n",
    "                    {\"name\": \" \", \"age\": 21, \"g\": \"b\"},\n",
    "                    {\"name\": \" \", \"age\": 21, \"g\": \"c\"},\n",
    "                    {\"name\": \" \", \"age\": 42, \"g\": \"d\"},\n",
    "                    {\"name\": \" \", \"age\": 42, \"g\": \"e\"},\n",
    "                    {\"name\": \" \", \"age\": 42, \"g\": \"f\"}]\n",
    "\n",
    "example_table_three = [{\"name\": \"nothing good ever happens\", \"song\": \"off you\"}]\n",
    "    \n",
    "print(cdfjoin([example_table_one, example_table_two, example_table_three], .75))"
   ]
  },
  {
   "cell_type": "code",
   "execution_count": 151,
   "metadata": {},
   "outputs": [
    {
     "name": "stdout",
     "output_type": "stream",
     "text": [
      "[{'name': ' ', 'age': 21, 'year': 1957, 'g': 'a', 'song': 'off you'}, {'name': ' ', 'age': 21, 'year': 1957, 'g': 'b', 'song': 'off you'}, {'name': ' ', 'age': 21, 'year': 1957, 'g': 'c', 'song': 'off you'}]\n"
     ]
    }
   ],
   "source": [
    "print(cdfjoin([example_table_one, example_table_two, example_table_three], .25))"
   ]
  },
  {
   "cell_type": "code",
   "execution_count": null,
   "metadata": {},
   "outputs": [],
   "source": []
  }
 ],
 "metadata": {
  "kernelspec": {
   "display_name": "Python 3",
   "language": "python",
   "name": "python3"
  },
  "language_info": {
   "codemirror_mode": {
    "name": "ipython",
    "version": 3
   },
   "file_extension": ".py",
   "mimetype": "text/x-python",
   "name": "python",
   "nbconvert_exporter": "python",
   "pygments_lexer": "ipython3",
   "version": "3.7.0"
  }
 },
 "nbformat": 4,
 "nbformat_minor": 2
}
