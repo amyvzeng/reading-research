{
 "cells": [
  {
   "cell_type": "code",
   "execution_count": 1,
   "metadata": {},
   "outputs": [],
   "source": [
    "\"\"\"\n",
    "Creates a hash table over a relation using the min_hash trick\n",
    "\"\"\"\n",
    "import binascii\n",
    "import random\n",
    "\n",
    "# maximum integer value\n",
    "MAXINT = 2**32-1\n",
    "\n",
    "# We need the next largest prime number above MAXINT\n",
    "NEXTPRIME = 4294967311\n",
    "\n",
    "\n",
    "def _generate_hash_fns(num=1):\n",
    "\n",
    "    def kwisehash(st, a=1, k=1):\n",
    "        val = binascii.crc32(bytes(st.encode(\"utf-8\"))) & 0xffffffff\n",
    "        return (a * val + k) % NEXTPRIME\n",
    "\n",
    "    family = []\n",
    "\n",
    "    for i in range(num):\n",
    "        a = random.randint(0, MAXINT)\n",
    "        b = random.randint(0, MAXINT)\n",
    "\n",
    "        family.append(lambda r, s=a, t=b: kwisehash(r,s,t))\n",
    "\n",
    "    return family\n",
    "\n",
    "\n",
    "\n",
    "def _min_hash(attrs, data, hashfn):\n",
    "    output = {}\n",
    "\n",
    "    for i, d in enumerate(data):\n",
    "        \n",
    "        mh = None\n",
    "\n",
    "        for a in attrs:\n",
    "\n",
    "            if a not in d:\n",
    "                continue\n",
    "\n",
    "            hv = hashfn(a + str(d[a]))\n",
    "\n",
    "            if mh == None:\n",
    "                mh = hv\n",
    "            else:\n",
    "                mh = min(mh, hv)\n",
    "\n",
    "        if mh not in output:\n",
    "            output[mh] = []\n",
    "\n",
    "        output[mh].append(i)\n",
    "\n",
    "    return output\n",
    "\n"
   ]
  },
  {
   "cell_type": "code",
   "execution_count": 2,
   "metadata": {},
   "outputs": [],
   "source": [
    "data = [{\"a\": 1, \"b\":0}, {\"a\": 2, \"b\":100}, {\"a\": 1, \"b\":4}]\n",
    "data2 = [{\"a\": 1, \"c\":0}, {\"a\": 2, \"c\":100}, {\"a\": 1, \"c\":4}]\n",
    "\n",
    "hashfn = _generate_hash_fns(1)[0]"
   ]
  },
  {
   "cell_type": "code",
   "execution_count": null,
   "metadata": {},
   "outputs": [],
   "source": []
  },
  {
   "cell_type": "code",
   "execution_count": null,
   "metadata": {},
   "outputs": [],
   "source": []
  },
  {
   "cell_type": "code",
   "execution_count": null,
   "metadata": {},
   "outputs": [],
   "source": []
  },
  {
   "cell_type": "code",
   "execution_count": null,
   "metadata": {},
   "outputs": [],
   "source": []
  }
 ],
 "metadata": {
  "kernelspec": {
   "display_name": "Python 3",
   "language": "python",
   "name": "python3"
  },
  "language_info": {
   "codemirror_mode": {
    "name": "ipython",
    "version": 3
   },
   "file_extension": ".py",
   "mimetype": "text/x-python",
   "name": "python",
   "nbconvert_exporter": "python",
   "pygments_lexer": "ipython3",
   "version": "3.7.0"
  }
 },
 "nbformat": 4,
 "nbformat_minor": 2
}
