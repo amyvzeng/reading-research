{
 "cells": [
  {
   "cell_type": "code",
   "execution_count": 1,
   "metadata": {},
   "outputs": [],
   "source": [
    "import csv\n",
    "import natjoin\n",
    "from copy import deepcopy"
   ]
  },
  {
   "cell_type": "code",
   "execution_count": 2,
   "metadata": {},
   "outputs": [],
   "source": [
    "aka_name = [\"id\", \"person_id\", \"name\", \n",
    "            \"imdb_index\", \"name_pcode_cf\", \"name_pcode_nf\", \n",
    "            \"surname_code\", \"md5sum\"]\n",
    "aka_title = [\"id\", \"movie_id\", \"title\", \n",
    "             \"imdb_index\", \"kind_id\", \"production_year\", \n",
    "             \"phonetic_code\", \"episode_of\", \"season_nr\", \n",
    "             \"episode_nr\", \"note\", \"md5sum\"]\n",
    "cast_info = [\"id\", \"person_id\", \"movie_id\",\n",
    "            \"person_role_id\", \"note\", \"nr_order\",\n",
    "            \"role_id\"]\n",
    "char_name = [\"id\", \"name\", \"imdb_index\",\n",
    "            \"imdb_id\", \"name_pcode_nf\", \"surname_pcode\",\n",
    "            \"md5sum\"]\n",
    "comp_cast_type = [\"id\", \"kind\"]\n",
    "company_name = [\"id\", \"name\", \"country_code\",\n",
    "               \"imdb_id\", \"name_pcode_nf\", \"name_pcode_sf\",\n",
    "               \"md5sum\"]\n",
    "company_type = [\"id\", \"kind\"]\n",
    "complete_cast = [\"id\", \"movie_id\", \"subject_id\",\n",
    "                \"status_id\"]\n",
    "info_type = [\"id\", \"info\"]\n",
    "keyword = [\"id\", \"keyword\", \"phonetic_code\"]\n",
    "kind_type = [\"id\", \"kind\"]\n",
    "link_type = [\"id\", \"link\"]\n",
    "movie_companies = [\"id\", \"movie_id\", \"company_id\",\n",
    "                  \"company_type_id\", \"note\"]\n",
    "movie_info = [\"id\", \"movie_id\", \"info_type_id\",\n",
    "             \"info\", \"note\"]\n",
    "movie_info_idx = [\"id\", \"movie_id\", \"info_type_id\",\n",
    "                 \"info\", \"note\"]\n",
    "movie_keyword = [\"id\", \"movie_id\", \"keyword_id\"]\n",
    "movie_link = [\"id\", \"movie_id\", \"linked_movie_id\",\n",
    "             \"link_type_id\"]\n",
    "name = [\"id\", \"name\", \"imdb_index\",\n",
    "       \"imdb_id\", \"gender\", \"name_pcode_cf\",\n",
    "       \"name_pcode_nf\", \"surname_pcode\", \"md5sum\"]\n",
    "role_type = [\"id\", \"role\"]\n",
    "title = [\"id\", \"title\", \"imdb_index\",\n",
    "        \"kind_id\", \"production_year\", \"imdb_id\",\n",
    "        \"phonetic_code\", \"episode_of_id\", \"season_nr\",\n",
    "        \"series_years\", \"md5sum\"]\n",
    "person_info = [\"id\", \"person_id\", \"info_type_id\",\n",
    "              \"info\", \"note\"]"
   ]
  },
  {
   "cell_type": "code",
   "execution_count": 3,
   "metadata": {},
   "outputs": [],
   "source": [
    "csv_names = {\"aka_name\": aka_name, \"aka_title\": aka_title, \"cast_info\": cast_info, \"char_name\": char_name,\n",
    "            \"comp_cast_type\": comp_cast_type, \"company_name\": company_name, \"company_type\": company_type, \n",
    "             \"complete_cast\": complete_cast, \"info_type\": info_type, \"keyword\": keyword, \n",
    "             \"kind_type\": kind_type, \"link_type\": link_type, \"movie_companies\": movie_companies, \n",
    "             \"movie_info\": movie_info, \"movie_info_idx\": movie_info_idx, \"movie_keyword\": movie_keyword, \"movie_link\": movie_link,\n",
    "            \"name\": name, \"role_type\": role_type, \"title\": title, \"person_info\": person_info}"
   ]
  },
  {
   "cell_type": "code",
   "execution_count": 4,
   "metadata": {},
   "outputs": [],
   "source": [
    "csv_tables = {}\n",
    "\n",
    "for csv_title in csv_names.keys():\n",
    "    with open('./imdb/' + csv_title + '.csv', newline = '') as csvfile:\n",
    "        spamreader = csv.reader(csvfile, delimiter=',')\n",
    "        table = []\n",
    "        headers = csv_names[csv_title]\n",
    "        counter = 0\n",
    "        for row in spamreader:\n",
    "            if counter >= 1000:\n",
    "                break\n",
    "            else:\n",
    "                counter += 1\n",
    "                table.append({headers[i]: row[i] for i in range(len(headers))})\n",
    "    csv_tables[csv_title] = table"
   ]
  },
  {
   "cell_type": "code",
   "execution_count": 5,
   "metadata": {},
   "outputs": [],
   "source": [
    "with open('edited-queries.txt', 'r') as f:\n",
    "    content = f.readlines()\n",
    "    \n",
    "table_info = []\n",
    "join_attr_info = []\n",
    "\n",
    "line_ctr=0\n",
    "for line in content:\n",
    "    if line != \"\\n\":\n",
    "        line = line.strip().strip(';')\n",
    "        if line_ctr % 2 == 0:\n",
    "            new_tables = line.split(\", \")\n",
    "            table_info.extend([table for table in new_tables if table not in table_info])\n",
    "        else:\n",
    "            new_attrs = line.split(\" AND \")\n",
    "            join_attr_info.extend([attr for attr in new_attrs if attr not in join_attr_info])\n",
    "        line_ctr+=1\n",
    "        \n",
    "tables = {}\n",
    "for table in table_info:\n",
    "    info = table.split(\" AS \")\n",
    "    tables[info[1]] = [deepcopy(entry) for entry in csv_tables[info[0]]]"
   ]
  },
  {
   "cell_type": "code",
   "execution_count": 6,
   "metadata": {},
   "outputs": [],
   "source": [
    "# def join_tables_on_key(t1, t2, t1_key, t2_key):\n",
    "#     table = []\n",
    "#     for entry1 in t1:\n",
    "#         for entry2 in t2:\n",
    "#             if entry1[t1_key] == entry2[t2_key]:\n",
    "#                 entry = entry1\n",
    "#                 if t1_key==t2_key:\n",
    "#                     for k,v in entry2.items():\n",
    "#                         if k != t2_key:\n",
    "#                             entry[k] = v\n",
    "#                 else:\n",
    "#                     entry.update(entry2)\n",
    "#                 table.append(entry)\n",
    "#     return table"
   ]
  },
  {
   "cell_type": "code",
   "execution_count": 7,
   "metadata": {},
   "outputs": [],
   "source": [
    "# def create_joined_tables():\n",
    "#     joined_tables = []\n",
    "#     for join_attr in join_attr_info:\n",
    "#         attrs = join_attr.split(\" = \")\n",
    "#         join_1 = attrs[0].split(\".\")\n",
    "#         join_2 = attrs[1].split(\".\")\n",
    "#         table = join_tables_on_key(tables[join_1[0]].copy(), tables[join_2[0]].copy(), join_1[1], join_2[1])\n",
    "#         if table != []:\n",
    "#             joined_tables.append(table)\n",
    "#     return joined_tables"
   ]
  },
  {
   "cell_type": "code",
   "execution_count": 8,
   "metadata": {},
   "outputs": [],
   "source": [
    "#final_tables = create_joined_tables()"
   ]
  },
  {
   "cell_type": "code",
   "execution_count": 9,
   "metadata": {},
   "outputs": [],
   "source": [
    "def insert_key(table, original_key):\n",
    "    for entry in table:\n",
    "        entry[\"id\"] = entry[original_key]\n",
    "    return table"
   ]
  },
  {
   "cell_type": "code",
   "execution_count": 10,
   "metadata": {},
   "outputs": [],
   "source": [
    "def remove_key(table, keys):\n",
    "    for entry in table:\n",
    "        for key in keys:\n",
    "            del entry[key]\n",
    "    return table"
   ]
  },
  {
   "cell_type": "code",
   "execution_count": 11,
   "metadata": {},
   "outputs": [],
   "source": [
    "def create_tables_to_join():\n",
    "    table_pairs = []\n",
    "    for join_attr in join_attr_info:\n",
    "        attrs = join_attr.split(\" = \")\n",
    "        join_1 = attrs[0].split(\".\")\n",
    "        join_2 = attrs[1].split(\".\")\n",
    "        table_1 = deepcopy(tables[join_1[0]])\n",
    "        table_2 = deepcopy(tables[join_2[0]])\n",
    "        common_attrs = [attr for attr in table_1[0].keys() if attr in table_2[0].keys()]\n",
    "        common_attrs = [attr for attr in common_attrs if attr != join_1[1] and attr != join_2[1]]\n",
    "        if join_1[1] != 'id':\n",
    "            table_1 = insert_key(table_1, join_1[1])\n",
    "        if join_2[1] != 'id':\n",
    "            table_2 = insert_key(table_2, join_2[1])\n",
    "        table_1 = remove_key(table_1, common_attrs)\n",
    "        table_2 = remove_key(table_2, common_attrs)\n",
    "        table_pairs.append([table_1, table_2])\n",
    "    return table_pairs"
   ]
  },
  {
   "cell_type": "code",
   "execution_count": 12,
   "metadata": {},
   "outputs": [],
   "source": [
    "table_pairs = create_tables_to_join()"
   ]
  },
  {
   "cell_type": "code",
   "execution_count": 13,
   "metadata": {},
   "outputs": [],
   "source": [
    "def attempts_at_joining(pairs):\n",
    "    joined_table_indices = []\n",
    "    for i in range(len(pairs)):\n",
    "        table_1 = pairs[i][0]\n",
    "        table_2 = pairs[i][1]\n",
    "        if len(natjoin.natural_join([deepcopy(table_1), deepcopy(table_2)])) != 0:\n",
    "            joined_table_indices.append(i)\n",
    "    return joined_table_indices"
   ]
  },
  {
   "cell_type": "code",
   "execution_count": 14,
   "metadata": {},
   "outputs": [],
   "source": [
    "joined_table_indices = attempts_at_joining(table_pairs)"
   ]
  },
  {
   "cell_type": "code",
   "execution_count": null,
   "metadata": {},
   "outputs": [],
   "source": []
  },
  {
   "cell_type": "code",
   "execution_count": null,
   "metadata": {},
   "outputs": [],
   "source": []
  }
 ],
 "metadata": {
  "kernelspec": {
   "display_name": "Python 3",
   "language": "python",
   "name": "python3"
  },
  "language_info": {
   "codemirror_mode": {
    "name": "ipython",
    "version": 3
   },
   "file_extension": ".py",
   "mimetype": "text/x-python",
   "name": "python",
   "nbconvert_exporter": "python",
   "pygments_lexer": "ipython3",
   "version": "3.7.0"
  }
 },
 "nbformat": 4,
 "nbformat_minor": 2
}
