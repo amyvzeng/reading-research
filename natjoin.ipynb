{
 "cells": [
  {
   "cell_type": "code",
   "execution_count": 1,
   "metadata": {},
   "outputs": [],
   "source": [
    "example_table_one = [{\"name\": \" \", \"age\": 21, \"year\": 1957},\n",
    "                    {\"name\": \"yikes\", \"age\": 21, \"year\": 1938},\n",
    "                    {\"name\": \"i'm\", \"age\": 21, \"year\": 2512},\n",
    "                    {\"name\": \"so\", \"age\": 21, \"year\": 1914},\n",
    "                    {\"name\": \"bleh\", \"age\": 21, \"year\": 1932},\n",
    "                    {\"name\": \"right now\", \"age\": 21, \"year\": 1957}]\n",
    "example_table_two = [{\"name\": \" \", \"age\": 21, \"g\": \"a\"},\n",
    "                    {\"name\": \" \", \"age\": 21, \"g\": \"b\"},\n",
    "                    {\"name\": \" \", \"age\": 21, \"g\": \"c\"},\n",
    "                    {\"name\": \" \", \"age\": 42, \"g\": \"d\"},\n",
    "                    {\"name\": \" \", \"age\": 42, \"g\": \"e\"},\n",
    "                    {\"name\": \" \", \"age\": 42, \"g\": \"f\"}]\n",
    "example_table_three = [{\"name\": \"nothing good ever happens\", \"age\": 0, \"year\": 1923, \"h\": \"a\"}]\n",
    "example_table_four = [{\"id\": \" \", \"birth\": \" \", \"death\": \" \"}]"
   ]
  },
  {
   "cell_type": "code",
   "execution_count": 2,
   "metadata": {},
   "outputs": [],
   "source": [
    "def cartesian_product(r,s):\n",
    "    output = []\n",
    "    for r_entry in r:\n",
    "        for s_entry in s:\n",
    "            r_copy = r_entry.copy()\n",
    "            r_copy.update(s_entry)\n",
    "            output.append(r_copy)\n",
    "    return output"
   ]
  },
  {
   "cell_type": "code",
   "execution_count": 3,
   "metadata": {},
   "outputs": [],
   "source": [
    "# cartesian_product(example_table_one, example_table_four)"
   ]
  },
  {
   "cell_type": "code",
   "execution_count": 4,
   "metadata": {},
   "outputs": [],
   "source": [
    "def classic_hash_join(r, s):\n",
    "    if len(s) == 0 or len(r) == 0:\n",
    "        return []\n",
    "    \n",
    "    r_attributes = r[0].keys()\n",
    "    s_attributes = s[0].keys()\n",
    "    common_attributes = list(filter(lambda ra: ra in s_attributes, r_attributes))\n",
    "    if len(common_attributes) > 0:\n",
    "        s_unique_attributes = list(filter(lambda sa: sa not in common_attributes, s_attributes))\n",
    "        hashtable = {}\n",
    "        hashtable_keys = []\n",
    "        hashkey = \"\"\n",
    "        \n",
    "        #build hash table\n",
    "        row_index = 0\n",
    "        for entry in r:\n",
    "            for attribute in common_attributes:\n",
    "                hashkey += str(entry[attribute])\n",
    "            if hashkey not in hashtable_keys:\n",
    "                hashtable[hashkey] = [row_index]\n",
    "                hashtable_keys.append(hashkey)\n",
    "            else:\n",
    "                hashtable[hashkey].append(row_index)\n",
    "            hashkey = \"\"\n",
    "            row_index+=1\n",
    "\n",
    "        \n",
    "        #join\n",
    "        output = []\n",
    "        for entry in s:\n",
    "            for attribute in common_attributes:\n",
    "                hashkey += str(entry[attribute])\n",
    "            if hashkey in hashtable_keys:\n",
    "                filtered_dict = {k:v for (k,v) in entry.items() if k in s_unique_attributes}\n",
    "                for r_index in hashtable[hashkey]:\n",
    "                    new_entry = (r[r_index].copy())\n",
    "                    new_entry.update(filtered_dict)\n",
    "                    output.append(new_entry)\n",
    "            hashkey=\"\"\n",
    "            \n",
    "        return output\n",
    "    else:\n",
    "        return cartesian_product(r,s)"
   ]
  },
  {
   "cell_type": "code",
   "execution_count": 5,
   "metadata": {},
   "outputs": [],
   "source": [
    "def natural_join(tables):\n",
    "    l1 = tables[0]\n",
    "    for i in range(1, len(tables)):\n",
    "        l1 = classic_hash_join(l1, tables[i])\n",
    "    return l1"
   ]
  },
  {
   "cell_type": "code",
   "execution_count": null,
   "metadata": {},
   "outputs": [],
   "source": []
  },
  {
   "cell_type": "code",
   "execution_count": null,
   "metadata": {},
   "outputs": [],
   "source": []
  }
 ],
 "metadata": {
  "kernelspec": {
   "display_name": "Python 3",
   "language": "python",
   "name": "python3"
  },
  "language_info": {
   "codemirror_mode": {
    "name": "ipython",
    "version": 3
   },
   "file_extension": ".py",
   "mimetype": "text/x-python",
   "name": "python",
   "nbconvert_exporter": "python",
   "pygments_lexer": "ipython3",
   "version": "3.7.0"
  }
 },
 "nbformat": 4,
 "nbformat_minor": 2
}
